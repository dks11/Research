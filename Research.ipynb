{
  "nbformat": 4,
  "nbformat_minor": 0,
  "metadata": {
    "colab": {
      "name": "Research",
      "provenance": [],
      "collapsed_sections": [],
      "machine_shape": "hm",
      "authorship_tag": "ABX9TyNwT6RT4PC2WaFi/XxpGu+S",
      "include_colab_link": true
    },
    "kernelspec": {
      "name": "python3",
      "display_name": "Python 3"
    },
    "language_info": {
      "name": "python"
    },
    "gpuClass": "standard",
    "accelerator": "TPU"
  },
  "cells": [
    {
      "cell_type": "markdown",
      "metadata": {
        "id": "view-in-github",
        "colab_type": "text"
      },
      "source": [
        "<a href=\"https://colab.research.google.com/github/dks11/Research/blob/main/Research.ipynb\" target=\"_parent\"><img src=\"https://colab.research.google.com/assets/colab-badge.svg\" alt=\"Open In Colab\"/></a>"
      ]
    },
    {
      "cell_type": "code",
      "source": [
        "!pip install --pre flwr[simulation] torch torchvision matplotlib transformers datasets"
      ],
      "metadata": {
        "id": "wJmDsjcIkCkO"
      },
      "execution_count": null,
      "outputs": []
    },
    {
      "cell_type": "code",
      "source": [
        "from collections import OrderedDict\n",
        "from typing import List\n",
        "from datetime import datetime\n",
        "\n",
        "import flwr as fl\n",
        "import numpy as np\n",
        "import matplotlib.pyplot as plt\n",
        "import sys\n",
        "import pandas as pd\n",
        "\n",
        "import torch\n",
        "import torch.nn as nn\n",
        "import torchvision\n",
        "import torch.nn.functional as F\n",
        "import torchvision.transforms as transforms\n",
        "from torch.utils.data import DataLoader, random_split\n",
        "from torchvision.datasets import CIFAR10\n",
        "from torch.optim import AdamW\n",
        "from datasets import load_dataset, load_metric, Dataset\n",
        "from transformers import AutoTokenizer, DataCollatorWithPadding\n",
        "from transformers import AutoModelForSequenceClassification\n"
      ],
      "metadata": {
        "id": "5s9IxrcvjXwg"
      },
      "execution_count": 3,
      "outputs": []
    },
    {
      "cell_type": "code",
      "source": [
        "torch.cuda.empty_cache()\n",
        "\n",
        "start_time = datetime.now()\n",
        "\n",
        "DEVICE = torch.device(\"cuda:0\" if torch.cuda.is_available() else \"cpu\")\n",
        "CHECKPOINT = \"bert-base-uncased\"  # transformer model checkpoint\n",
        "\n",
        "\n",
        "NUM_CLIENTS = 2"
      ],
      "metadata": {
        "id": "85PTl7fFjjlu"
      },
      "execution_count": 4,
      "outputs": []
    },
    {
      "cell_type": "code",
      "execution_count": 5,
      "metadata": {
        "id": "1ZxGk6AMNvvV"
      },
      "outputs": [],
      "source": [
        "def get_parameters(net) -> List[np.ndarray]:\n",
        "    return [val.cpu().numpy() for _, val in net.state_dict().items()]\n",
        "\n",
        "def set_parameters(net, parameters: List[np.ndarray]):\n",
        "    params_dict = zip(net.state_dict().keys(), parameters)\n",
        "    state_dict = OrderedDict({k: torch.Tensor(v) for k, v in params_dict})\n",
        "    net.load_state_dict(state_dict, strict=True)"
      ]
    },
    {
      "cell_type": "code",
      "source": [
        "class FLClient(fl.client.NumPyClient):\n",
        "        def __init__(self, net, trainloader, testloader):\n",
        "            self.net = net\n",
        "            self.trainloader = trainloader\n",
        "            self.testloader = testloader\n",
        "     \n",
        "        def get_parameters(self, config):\n",
        "            return get_parameters(self.net)\n",
        "\n",
        "        def fit(self, parameters, config):\n",
        "            set_parameters(self.net, parameters)\n",
        "            train(self.net, self.trainloader, epochs=1)\n",
        "            return get_parameters(self.net), len(self.trainloader), {}\n",
        "\n",
        "        def evaluate(self, parameters, config):\n",
        "            set_parameters(self.net, parameters)\n",
        "            loss, accuracy = test(self.net, self.testloader)\n",
        "            return float(loss), len(self.testloader), {\"accuracy\": float(accuracy)}"
      ],
      "metadata": {
        "id": "oeB202gPjkpt"
      },
      "execution_count": 6,
      "outputs": []
    },
    {
      "cell_type": "code",
      "source": [
        "def clientID(id):\n",
        "    if id == \"1\":\n",
        "        return r\"/content/enron1.csv\"\n",
        "    if id == \"2\":\n",
        "        return r\"/content/enron2.csv\"\n",
        "    if id == \"3\":\n",
        "        return r\"/content/enron3.csv\"\n",
        "    if id == \"4\":\n",
        "        return r\"/content/enron4.csv\"\n",
        "    if id == \"5\":\n",
        "        return r\"/content/enron5.csv\"\n",
        "    if id == \"6\":\n",
        "        return r\"/content/enron6.csv\"\n",
        "            \n",
        "            \n",
        "def testID(id):\n",
        "    if id == \"1\":\n",
        "        return r\"/content/enron1.csv\"\n",
        "    if id == \"2\":\n",
        "        return r\"/content/enron2.csv\"\n",
        "    if id == \"3\":\n",
        "        return r\"/content/enron3.csv\"\n",
        "    if id == \"4\":\n",
        "        return r\"/content/enron4.csv\"\n",
        "    if id == \"5\":\n",
        "        return r\"/content/enron5.csv\"\n",
        "    if id == \"6\":\n",
        "        return r\"/content/enron6.csv\""
      ],
      "metadata": {
        "id": "9k11zKo8jkz1"
      },
      "execution_count": 7,
      "outputs": []
    },
    {
      "cell_type": "code",
      "source": [
        "def load_data(cid):\n",
        "    csvFile = clientID(cid)\n",
        "    \n",
        "    df = pd.read_csv(csvFile)\n",
        "\n",
        "    raw_datasets = Dataset.from_pandas(df)\n",
        "\n",
        "    raw_datasets = raw_datasets.shuffle(seed=42)\n",
        "\n",
        "    tokenizer = AutoTokenizer.from_pretrained(CHECKPOINT)\n",
        "\n",
        "    def tokenize_function(examples):\n",
        "        return tokenizer(examples[\"message\"], truncation=True)\n",
        "\n",
        "    tokenized_datasets = raw_datasets.map(tokenize_function, batched=True)\n",
        "\n",
        "    tokenized_datasets = tokenized_datasets.remove_columns(\"message\")\n",
        "    tokenized_datasets = tokenized_datasets.rename_column(\"spam/ham\", \"labels\")\n",
        "\n",
        "    data_collator = DataCollatorWithPadding(tokenizer=tokenizer)\n",
        "    trainloader = DataLoader(\n",
        "        tokenized_datasets,\n",
        "        shuffle=True,\n",
        "        batch_size=32,\n",
        "        collate_fn=data_collator,\n",
        "    )\n",
        "    csvFile = testID(cid)\n",
        "    \n",
        "    df = pd.read_csv(csvFile)\n",
        "\n",
        "    raw_datasets = Dataset.from_pandas(df)\n",
        "\n",
        "    raw_datasets = raw_datasets.shuffle(seed=42)\n",
        "    tokenized_datasets = raw_datasets.map(tokenize_function, batched=True)\n",
        "    tokenized_datasets = tokenized_datasets.remove_columns(\"message\")\n",
        "    tokenized_datasets = tokenized_datasets.rename_column(\"spam/ham\", \"labels\")\n",
        "\n",
        "\n",
        "    testloader = DataLoader(\n",
        "        tokenized_datasets, batch_size=32, collate_fn=data_collator\n",
        "    )\n",
        "\n",
        "    return trainloader, testloader"
      ],
      "metadata": {
        "id": "PdOfDTmUjs_m"
      },
      "execution_count": 8,
      "outputs": []
    },
    {
      "cell_type": "code",
      "source": [
        "def train(net, trainloader, epochs):\n",
        "    optimizer = AdamW(net.parameters())\n",
        "    net.train()\n",
        "    for _ in range(epochs):\n",
        "        for batch in trainloader:\n",
        "            batch = {k: v.to(DEVICE) for k, v in batch.items()}\n",
        "            outputs = net(**batch)\n",
        "            loss = outputs.loss\n",
        "            loss.backward()\n",
        "            optimizer.step()\n",
        "            optimizer.zero_grad()\n",
        "\n",
        "\n",
        "def test(net, testloader):\n",
        "    metric = load_metric(\"accuracy\")\n",
        "    loss = 0\n",
        "    net.eval()\n",
        "    for batch in testloader:\n",
        "        batch = {k: v.to(DEVICE) for k, v in batch.items()}\n",
        "        with torch.no_grad():\n",
        "            outputs = net(**batch)\n",
        "        logits = outputs.logits\n",
        "        loss += outputs.loss.item()\n",
        "        predictions = torch.argmax(logits, dim=-1)\n",
        "        metric.add_batch(predictions=predictions, references=batch[\"labels\"])\n",
        "    loss /= len(testloader.dataset)\n",
        "    accuracy = metric.compute()[\"accuracy\"]\n",
        "    return loss, accuracy"
      ],
      "metadata": {
        "id": "Xe48d7vFjtH1"
      },
      "execution_count": 9,
      "outputs": []
    },
    {
      "cell_type": "code",
      "source": [
        "def client_fn(cid: str) -> FLClient:\n",
        "    # Create model\n",
        "    net = AutoModelForSequenceClassification.from_pretrained(\n",
        "        CHECKPOINT, num_labels=2\n",
        "    ).to(DEVICE)\n",
        "\n",
        "    trainloader, testloader = load_data(cid)\n",
        "\n",
        "    # Create and return client\n",
        "    return FLClient(net, trainloader, testloader)"
      ],
      "metadata": {
        "id": "qqhnt0ZBjtOd"
      },
      "execution_count": 10,
      "outputs": []
    },
    {
      "cell_type": "code",
      "source": [
        "strategy = fl.server.strategy.FedAvg(\n",
        "        fraction_fit=1.0,  # Sample 100% of available clients for training\n",
        "        fraction_evaluate=0.5,  # Sample 50% of available clients for evaluation\n",
        ")\n",
        "\n",
        "\n",
        "fl.simulation.start_simulation(\n",
        "    client_fn=client_fn,\n",
        "    num_clients=NUM_CLIENTS,\n",
        "    config=fl.server.ServerConfig(num_rounds=1),\n",
        "    strategy=strategy,\n",
        "    clients_ids = [\"1\",\"2\"],\n",
        ")\n",
        "    "
      ],
      "metadata": {
        "id": "14aOQN5jf6FK"
      },
      "execution_count": null,
      "outputs": []
    }
  ]
}